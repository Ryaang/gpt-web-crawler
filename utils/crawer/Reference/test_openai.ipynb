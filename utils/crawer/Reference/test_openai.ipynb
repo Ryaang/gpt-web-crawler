{
 "cells": [
  {
   "cell_type": "code",
   "execution_count": 8,
   "metadata": {},
   "outputs": [],
   "source": [
    "import os\n",
    "from openai import OpenAI\n",
    "client = OpenAI(\n",
    "    # This is the default and can be omitted\n",
    "    # api_key=os.environ.get(\"OPENAI_API_KEY\"),\n",
    "    base_url = 'http://231/v1',\n",
    "    api_key = 'sk-dk'\n",
    ")"
   ]
  },
  {
   "cell_type": "code",
   "execution_count": 18,
   "metadata": {},
   "outputs": [],
   "source": [
    "c_data = \"汉堡 关闭 简体中文 路径 首页 产品 部件 系统 商城 部件 电动推杆 升降立柱 遮阳驱动 伺服电机 控制器 操作器 配件 系统 升降桌系统 可调节床架 升降电视机架 洗澡椅 升降坐便器 升降吊柜 升降梳妆台 台面平移 电动轮椅 商城 业务领域 智慧办公 医疗康护 智能家居 工业自动化 智慧办公 TF组合工位 TT组合工位 TS单人工位 TO单人工位 高级办公桌 主管桌 Odette会议桌 升降白板 升降讲台 工作舱 Zen新中式升降桌 升降茶几 居家升降桌 蜂窝板升降桌 电竞升降桌 儿童学习桌 医疗康护 电动病床 影像设备 检查床/诊疗床 手术床 婴儿培育箱 家用护理床 移位器 电动轮椅 升降坐便器 洗澡椅 沐浴床 眼科检查台 治疗椅 理容椅 牵引床 按摩床 OT训练设备 直立床 康复机器人 智能家居 升降吊柜 升降岛台 升降电视机架 升降衣柜 升降梳妆台 升降梳妆镜 电竞升降桌 Zen 新中式升降桌 儿童学习桌 油烟机 洗碗机 可调节床架 遮阳驱动 工业自动化 光伏应用 光热应用 建筑工程机械 环卫车辆 AGV/物流叉车 石油设备（防爆） 扫地机器人 关于捷昌 捷昌简介 捷昌优势 捷昌文化 捷昌年刊 社会责任 行为守则 可持续发展 检测实力 捷昌简介 捷昌优势 捷昌文化 捷昌年刊 社会责任 行为守则 可持续发展 检测实力 服务 满意度调查 升降系统定制 常见问题 相关下载 满意度调查 升降系统定制 常见问题 相关下载 新闻中心 新闻资讯 视频浏览 新闻资讯 视频浏览 联系我们 全球办事处 投资者关系 加入我们 合作伙伴 全球办事处 投资者关系 加入我们 合作伙伴 简体中文 简体中文 Pусский 日本語 Deutsch Español English हिन्दी 搜索 路径 办公室 高级办公桌 适用于独立办公室的升降系统解决方案。高级的造型和功能定制，满足高端应用场景对升降办公的功能需求和性能需求。精工制造与品质管控 JIECANG拥有数百台高精设备和自动化生产线，既可实现规模化生产，又能满足柔性定制，全方位的产业链充分保证了产品品质的一致性以及交货的及时性。JIECANG设有比常规环境更苛刻的质量实验室，拥有专业质量监控团队和完备的管理体系，所有原材料、半成品、成品都经过严格检测，保障产品品质，产品出厂合格率控制在500ppm以内。经过数万次的负载寿命测试标准，捷昌升降系统使用寿命可达10年以上。全面的升降系统解决方案 JIECANG的升降系统拥有全面且丰富的优势。Anti-collision加载回退功能避免了用户在使用升降桌时存在的安全隐患。在待机时，JIECANG的升降系统可以达到待机功耗＜0.1W，节约能耗。Click快速安装系列、Zoom快速升降系列、Nature蜂窝板系列、Mute静音技术、IOT物联网接口等升降系统解决方案在各方面为消费者提供健康办公产品。20+年线性驱动行业经验电动升降桌广泛应用于写字楼、行政单位、企业、学校、家庭等环境，为长期久坐的人员提供健康的坐姿以及站立办公的产品，缓解身体疲劳，减缓和避免脊椎类职业病。JIECANG作为《电动升降桌》行业标准的起草单位，拥有20+年的线性驱动行业经验，可以为广大客户提供专业的产品以及服务。​ 查看更多 下拉箭头小 收起箭头 起重柱 JS36DR3-3-S 查看更多 手机 JCHT35K23 查看更多 控制箱 JCB35NH2 查看更多 起重柱 JS36DR3-3-S 查看更多 手机 JCHT35K23 查看更多 控制箱 JCB35NH2 查看更多 First-class qualityThis area can be customized to add text, the length of the text is customized, does not affect the operation of the entire site.This area can be customized to add text, the length of the text is customized, does not affect the operation of the entire site. 产品中心 我们为您提供专业的升降系统解决方案及相关部件。 JS36DR3-3-S ·3节 ·矩形管 90*60 mm ·正装L型 JCHT35K23 ·OLED显示屏 ·亚克力板材 ·久坐提醒 JCP35WA-A ·无线充电器 ·隔桌充电 ·最大功率：10W JCB35NH2 ·输出功率：400W ·0.1W待机功率 ·可控制立柱数量: 2 相关视频 探索发现 智慧办公 捷昌携新品亮相广州家博会，助力办公家具驶入智能新蓝海 智慧办公 捷昌驱动亮相广州设计周，加速智慧驱动与家居设计的融合发展 智慧办公 2022 ORGATEC | 办公新视野，捷昌打造“一个可持续的未来” 10月25日-29日，我们与您相约德国科隆国际会展中心6号展厅A-038展位。在今年的ORGATEC上，捷昌重点关注“一个可持续的未来”，并希望通过展会传递环保的设计理念可以为人体工学家具带来更卓越的效果。 智慧办公 捷昌驱动荣获iF设计奖，引领行业创新发展 近日，德国“iF设计奖”公布了2021年度获奖名单。捷昌驱动凭借应用于智能升降桌的创新手控器JCHT35M6斩获“iF产品设计奖”。 智慧办公 电竞产业快速发展，捷昌为客户提供多元化“升降桌解决方案” 在不断地斟酌打磨后，我们推出了INVICTUS电竞升降桌解决方案，并深信它面面俱到的功能与诸多贴心的细节设计能使之成为年轻游戏玩家的最佳“战友”。 智慧办公 CIFF广州今日开幕｜岂止于“快”，1.2D18等你探索更多捷昌创新升降系统 CIFF广州今日开幕｜岂止于“快”，1.2D18等你探索更多捷昌创新升降系统 快速链接 快速导航 首页 部件 系统 业务领域 关于捷昌 服务 新闻资讯 联系我们 部件 快速导航 电动推杆 升降立柱 遮阳驱动 伺服电机 控制器 操作器 配件 400-6666-358 jc35@jiecang.com 留言 2355502916 系统 快速导航 升降桌系统 可调节床架 升降电视机架 洗澡椅 升降坐便器 升降吊柜 升降梳妆台 台面平移 电动轮椅  地址：浙江省新昌县省级高新技术产业园区莱盛路2号  电话：400-6666-358 https://weibo.com/p/1006063675752922/home?from=page_100606&mod=TAB#place 版权所有  2022 浙江捷昌线性驱动科技股份有限公司 站点地图 | 隐私政策 浙ICP备11031253号-8\"\n",
    "p1 = \"This text is from an product website, please extract the description of the product named 高级办公桌:\"\n",
    "p2 = \"This text is from an product website, please extract the description of the product named 高级办公桌, Note that dont summary, extract and combine all relavent information instead:\"\n",
    "p3 = \"下面给出的文本是来自一个产品的网页， 请提取出产品名为高级办公桌的产品的描述。注意需要完整保留原始内容输出，而不需要任何处理。文本如下：\""
   ]
  },
  {
   "cell_type": "code",
   "execution_count": 10,
   "metadata": {},
   "outputs": [],
   "source": [
    "content = p1 + c_data\n",
    "\n",
    "chat_completion = client.chat.completions.create(\n",
    "    messages=[\n",
    "        {\n",
    "            \"role\": \"user\",\n",
    "            \"content\": content,\n",
    "        }\n",
    "    ],\n",
    "    model=\"gpt-3.5-turbo\",\n",
    ")"
   ]
  },
  {
   "cell_type": "code",
   "execution_count": 14,
   "metadata": {},
   "outputs": [
    {
     "name": "stdout",
     "output_type": "stream",
     "text": [
      "ChatCompletion(id='chatcmpl-8Y82kjzJ1di7wQPE4P1NlIm3uD1EZ', choices=[Choice(finish_reason='stop', index=0, logprobs=None, message=ChatCompletionMessage(content='The product named \"高级办公桌\" is a high-end adjustable office desk solution for independent offices. It is designed with advanced style and customized functionality to meet the demands and performance requirements of high-end applications. The product is manufactured with precision and quality control, utilizing hundreds of high-precision equipment and automated production lines. This allows for both large-scale production and flexible customization, ensuring consistent product quality and timely delivery. The company also has a quality laboratory and professional quality control team, conducting strict testing on all raw materials, semi-finished products, and finished products to guarantee product quality. The product has undergone thousands of load life tests and has a lifespan of over 10 years. The company offers comprehensive solutions for adjustable desk systems, including anti-collision features, low standby power consumption, quick installation series, cellular board series, silent technology, and IoT interfaces. These solutions provide consumers with healthier office products. The electric height-adjustable desk has been widely used in office buildings, administrative units, enterprises, schools, and homes, providing a healthy sitting posture and standing office option to relieve physical fatigue and prevent spinal occupational diseases. JIECANG, with over 20 years of experience in linear drive industry, is a drafting unit of the industry standard for electric height-adjustable desks and offers professional products and services to customers.', role='assistant', function_call=None, tool_calls=None))], created=1703144762, model='gpt-3.5-turbo-0613', object='chat.completion', system_fingerprint=None, usage=CompletionUsage(completion_tokens=267, prompt_tokens=2824, total_tokens=3091))\n"
     ]
    }
   ],
   "source": [
    "print(chat_completion)"
   ]
  },
  {
   "cell_type": "code",
   "execution_count": 20,
   "metadata": {},
   "outputs": [
    {
     "name": "stdout",
     "output_type": "stream",
     "text": [
      "This text is from an product website, please extract the description of the product named 高级办公桌, Note that dont summary, extract and combine all relavent information instead:\n",
      "🚗🚗🚗🚗🚗🚗🚗🚗🚗🚗🚗🚗🚗🚗🚗🚗🚗🚗🚗🚗🚗🚗🚗🚗🚗🚗🚗🚗🚗🚗🚗🚗🚗🚗🚗🚗🚗🚗🚗🚗🚗🚗🚗🚗🚗🚗🚗🚗🚗🚗\n",
      "ChatCompletion(id='chatcmpl-8Y8lgf0WASKlwfoT76Bw13Vm3l23z', choices=[Choice(finish_reason='stop', index=0, logprobs=None, message=ChatCompletionMessage(content='高级办公桌是一种适用于独立办公室的升降系统解决方案。它具有高级的造型和功能定制，满足高端应用场景对升降办公的功能需求和性能需求。捷昌拥有数百台高精设备和自动化生产线，既可实现规模化生产，又能满足柔性定制，全方位的产业链充分保证了产品品质的一致性以及交货的及时性。捷昌的升降系统拥有全面且丰富的优势，如Anti-collision加载回退功能、节能待机模式、快速安装系列、快速升降系列、蜂窝板系列、静音技术、物联网接口等，为消费者提供健康办公产品。捷昌作为线性驱动行业的经验者，拥有20+年的行业经验，为写字楼、行政单位、企业、学校、家庭等环境提供电动升降桌，缓解身体疲劳，减缓和避免脊椎类职业病。', role='assistant', function_call=None, tool_calls=None))], created=1703147548, model='gpt-3.5-turbo-0613', object='chat.completion', system_fingerprint=None, usage=CompletionUsage(completion_tokens=353, prompt_tokens=2839, total_tokens=3192))\n"
     ]
    }
   ],
   "source": [
    "content = p2 + c_data\n",
    "\n",
    "chat_completion = client.chat.completions.create(\n",
    "    messages=[\n",
    "        {\n",
    "            \"role\": \"user\",\n",
    "            \"content\": content,\n",
    "        }\n",
    "    ],\n",
    "    model=\"gpt-3.5-turbo\",\n",
    ")\n",
    "print(p2)\n",
    "print(\"🚗\"*50)\n",
    "print(chat_completion)"
   ]
  },
  {
   "cell_type": "code",
   "execution_count": 21,
   "metadata": {},
   "outputs": [
    {
     "name": "stdout",
     "output_type": "stream",
     "text": [
      "下面给出的文本是来自一个产品的网页， 请提取出产品名为高级办公桌的产品的描述。注意需要完整保留原始内容输出，而不需要任何处理。文本如下：\n",
      "🚗🚗🚗🚗🚗🚗🚗🚗🚗🚗🚗🚗🚗🚗🚗🚗🚗🚗🚗🚗🚗🚗🚗🚗🚗🚗🚗🚗🚗🚗🚗🚗🚗🚗🚗🚗🚗🚗🚗🚗🚗🚗🚗🚗🚗🚗🚗🚗🚗🚗\n",
      "ChatCompletion(id='chatcmpl-8Y8mbCX4Zt7hLj8X2At9GI3sds6X5', choices=[Choice(finish_reason='stop', index=0, logprobs=None, message=ChatCompletionMessage(content='适用于独立办公室的升降系统解决方案。高级的造型和功能定制，满足高端应用场景对升降办公的功能需求和性能需求。精工制造与品质管控 JIECANG拥有数百台高精设备和自动化生产线，既可实现规模化生产，又能满足柔性定制，全方位的产业链充分保证了产品品质的一致性以及交货的及时性。JIECANG设有比常规环境更苛刻的质量实验室，拥有专业质量监控团队和完备的管理体系，所有原材料、半成品、成品都经过严格检测，保障产品品质，产品出厂合格率控制在500ppm以内。经过数万次的负载寿命测试标准，捷昌升降系统使用寿命可达10年以上。全面的升降系统解决方案 JIECANG的升降系统拥有全面且丰富的优势。Anti-collision加载回退功能避免了用户在使用升降桌时存在的安全隐患。在待机时，JIECANG的升降系统可以达到待机功耗＜0.1W，节约能耗。Click快速安装系列、Zoom快速升降系列、Nature蜂窝板系列、Mute静音技术、IOT物联网接口等升降系统解决方案在各方面为消费者提供健康办公产品。20+年线性驱动行业经验电动升降桌广泛应用于写字楼、行政单位、企业、学校、家庭等环境，为长期久坐的人员提供健康的坐姿以及站立办公的产品，缓解身体疲劳，减缓和避免脊椎类职业病。JIECANG作为《电动升降桌》行业标准的起草单位，拥有20+年的线性驱动行业经验，可以为广大客户提供专业的产品以及服务。', role='assistant', function_call=None, tool_calls=None))], created=1703147605, model='gpt-3.5-turbo-0613', object='chat.completion', system_fingerprint=None, usage=CompletionUsage(completion_tokens=645, prompt_tokens=2859, total_tokens=3504))\n"
     ]
    }
   ],
   "source": [
    "p = p3\n",
    "content = p + c_data\n",
    "\n",
    "chat_completion = client.chat.completions.create(\n",
    "    messages=[\n",
    "        {\n",
    "            \"role\": \"user\",\n",
    "            \"content\": content,\n",
    "        }\n",
    "    ],\n",
    "    model=\"gpt-3.5-turbo\",\n",
    ")\n",
    "print(p)\n",
    "print(\"🚗\"*50)\n",
    "print(chat_completion)"
   ]
  },
  {
   "cell_type": "code",
   "execution_count": null,
   "metadata": {},
   "outputs": [
    {
     "name": "stdout",
     "output_type": "stream",
     "text": [
      "This text is from an product website, please extract the description of the product named 高级办公桌, Note that dont summary, extract and combine all relavent information instead:\n",
      "🚗🚗🚗🚗🚗🚗🚗🚗🚗🚗🚗🚗🚗🚗🚗🚗🚗🚗🚗🚗🚗🚗🚗🚗🚗🚗🚗🚗🚗🚗🚗🚗🚗🚗🚗🚗🚗🚗🚗🚗🚗🚗🚗🚗🚗🚗🚗🚗🚗🚗\n",
      "ChatCompletion(id='chatcmpl-8Y8DscmFXgJdFufcKSg7eum9U86Jm', choices=[Choice(finish_reason='stop', index=0, logprobs=None, message=ChatCompletionMessage(content='办公室 高级办公桌 适用于独立办公室的升降系统解决方案。高级的造型和功能定制，满足高端应用场景对升降办公的功能需求和性能需求。精工制造与品质管控 JIECANG拥有数百台高精设备和自动化生产线，既可实现规模化生产，又能满足柔性定制，全方位的产业链充分保证了产品品质的一致性以及交货的及时性。JIECANG设有比常规环境更苛刻的质量实验室，拥有专业质量监控团队和完备的管理体系，所有原材料、半成品、成品都经过严格检测，保障产品品质，产品出厂合格率控制在500ppm以内。经过数万次的负载寿命测试标准，捷昌升降系统使用寿命可达10年以上。全面的升降系统解决方案 JIECANG的升降系统拥有全面且丰富的优势。Anti-collision加载回退功能避免了用户在使用升降桌时存在的安全隐患。在待机时，JIECANG的升降系统可以达到待机功耗＜0.1W，节约能耗。Click快速安装系列、Zoom快速升降系列、Nature蜂窝板系列、Mute静音技术、IOT物联网接口等升降系统解决方案在各方面为消费者提供健康办公产品。20+年线性驱动行业经验电动升降桌广泛应用于写字楼、行政单位、企业、学校、家庭等环境，为长期久坐的人员提供健康的坐姿以及站立办公的产品，缓解身体疲劳，减缓和避免脊椎类职业病。JIECANG作为《电动升降桌》行业标准的起草单位，拥有20+年的线性驱动行业经验，可以为广大客户提供专业的产品以及服务。', role='assistant', function_call=None, tool_calls=None))], created=1703145452, model='gpt-4-1106-preview', object='chat.completion', system_fingerprint='fp_3905aa4f79', usage=CompletionUsage(completion_tokens=659, prompt_tokens=2859, total_tokens=3518))\n"
     ]
    }
   ],
   "source": [
    "p = p3\n",
    "content = p + c_data\n",
    "\n",
    "chat_completion = client.chat.completions.create(\n",
    "    messages=[\n",
    "        {\n",
    "            \"role\": \"user\",\n",
    "            \"content\": content,\n",
    "        }\n",
    "    ],\n",
    "    model=\"gpt-4-1106-preview\",\n",
    ")\n",
    "print(p)\n",
    "print(\"🚗\"*50)\n",
    "print(chat_completion)"
   ]
  }
 ],
 "metadata": {
  "kernelspec": {
   "display_name": "Python 3 (ipykernel)",
   "language": "python",
   "name": "python3"
  },
  "language_info": {
   "codemirror_mode": {
    "name": "ipython",
    "version": 3
   },
   "file_extension": ".py",
   "mimetype": "text/x-python",
   "name": "python",
   "nbconvert_exporter": "python",
   "pygments_lexer": "ipython3",
   "version": "3.11.5"
  }
 },
 "nbformat": 4,
 "nbformat_minor": 2
}
