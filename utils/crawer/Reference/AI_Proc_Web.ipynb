{
  "cells": [
    {
      "cell_type": "code",
      "execution_count": 14,
      "metadata": {
        "colab": {
          "base_uri": "https://localhost:8080/"
        },
        "id": "rbX0mZ4r1N_y",
        "outputId": "1b142363-214d-4490-e18f-94d986448661"
      },
      "outputs": [
        {
          "name": "stdout",
          "output_type": "stream",
          "text": [
            "Requirement already satisfied: openai in /usr/local/lib/python3.10/dist-packages (1.6.0)\n",
            "Requirement already satisfied: anyio<5,>=3.5.0 in /usr/local/lib/python3.10/dist-packages (from openai) (3.7.1)\n",
            "Requirement already satisfied: distro<2,>=1.7.0 in /usr/lib/python3/dist-packages (from openai) (1.7.0)\n",
            "Requirement already satisfied: httpx<1,>=0.23.0 in /usr/local/lib/python3.10/dist-packages (from openai) (0.26.0)\n",
            "Requirement already satisfied: pydantic<3,>=1.9.0 in /usr/local/lib/python3.10/dist-packages (from openai) (1.10.13)\n",
            "Requirement already satisfied: sniffio in /usr/local/lib/python3.10/dist-packages (from openai) (1.3.0)\n",
            "Requirement already satisfied: tqdm>4 in /usr/local/lib/python3.10/dist-packages (from openai) (4.66.1)\n",
            "Requirement already satisfied: typing-extensions<5,>=4.7 in /usr/local/lib/python3.10/dist-packages (from openai) (4.9.0)\n",
            "Requirement already satisfied: idna>=2.8 in /usr/local/lib/python3.10/dist-packages (from anyio<5,>=3.5.0->openai) (3.6)\n",
            "Requirement already satisfied: exceptiongroup in /usr/local/lib/python3.10/dist-packages (from anyio<5,>=3.5.0->openai) (1.2.0)\n",
            "Requirement already satisfied: certifi in /usr/local/lib/python3.10/dist-packages (from httpx<1,>=0.23.0->openai) (2023.11.17)\n",
            "Requirement already satisfied: httpcore==1.* in /usr/local/lib/python3.10/dist-packages (from httpx<1,>=0.23.0->openai) (1.0.2)\n",
            "Requirement already satisfied: h11<0.15,>=0.13 in /usr/local/lib/python3.10/dist-packages (from httpcore==1.*->httpx<1,>=0.23.0->openai) (0.14.0)\n"
          ]
        }
      ],
      "source": [
        "%pip install -q -U google-generativeai\n",
        "!pip install openai"
      ]
    },
    {
      "cell_type": "markdown",
      "metadata": {
        "id": "Aaqd_eaF1ZtW"
      },
      "source": [
        "## Gemini\n",
        "Gemini的调用有地区限制，且在Colab中也有相同的情况。报错如下\n",
        "```\n",
        "BadRequest: 400 GET http://localhost:44639/v1beta/models?pageSize=50&%24alt=json%3Benum-encoding%3Dint: User location is not supported for the API use.\n",
        "```"
      ]
    },
    {
      "cell_type": "markdown",
      "metadata": {
        "id": "we_OnMMX1sY2"
      },
      "source": [
        "### 导入依赖\n",
        "\n",
        "🔑需要在环境变量中配置好Gemini和OpenAI的Key.\n",
        "\n"
      ]
    },
    {
      "cell_type": "code",
      "execution_count": 2,
      "metadata": {
        "id": "GikNSCs81knd"
      },
      "outputs": [],
      "source": [
        "import pathlib\n",
        "import textwrap\n",
        "\n",
        "import google.generativeai as genai\n",
        "\n",
        "# Used to securely store your API key\n",
        "from google.colab import userdata\n",
        "\n",
        "from IPython.display import display\n",
        "from IPython.display import Markdown\n",
        "\n",
        "\n",
        "def to_markdown(text):\n",
        "  text = text.replace('•', '  *')\n",
        "  return Markdown(textwrap.indent(text, '> ', predicate=lambda _: True))"
      ]
    },
    {
      "cell_type": "code",
      "execution_count": 3,
      "metadata": {
        "id": "6lgFN95o2OY0"
      },
      "outputs": [],
      "source": [
        "# Or use `os.getenv('GOOGLE_API_KEY')` to fetch an environment variable.\n",
        "GOOGLE_API_KEY=userdata.get('GOOGLE_API_KEY')\n",
        "\n",
        "genai.configure(api_key=GOOGLE_API_KEY)"
      ]
    },
    {
      "cell_type": "markdown",
      "metadata": {
        "id": "67TB7_RP2Vac"
      },
      "source": [
        "### 列举模型\n",
        "- gemini-pro: optimized for text-only prompts.\n",
        "- gemini-pro-vision: optimized for text-and-images prompts."
      ]
    },
    {
      "cell_type": "code",
      "execution_count": 4,
      "metadata": {
        "colab": {
          "base_uri": "https://localhost:8080/",
          "height": 52
        },
        "id": "ILFF7B0x2X14",
        "outputId": "fb3b1db4-125a-472a-e1a3-f99d8fbe56a3"
      },
      "outputs": [
        {
          "name": "stdout",
          "output_type": "stream",
          "text": [
            "models/gemini-pro\n",
            "models/gemini-pro-vision\n"
          ]
        }
      ],
      "source": [
        "for m in genai.list_models():\n",
        "  if 'generateContent' in m.supported_generation_methods:\n",
        "    print(m.name)"
      ]
    },
    {
      "cell_type": "code",
      "execution_count": 5,
      "metadata": {
        "id": "lquSOlps4HS-"
      },
      "outputs": [],
      "source": [
        "model = genai.GenerativeModel('gemini-pro')"
      ]
    },
    {
      "cell_type": "markdown",
      "metadata": {
        "id": "-7CYYgOP3Afl"
      },
      "source": [
        "### 数据与Prompt"
      ]
    },
    {
      "cell_type": "code",
      "execution_count": 6,
      "metadata": {
        "id": "VIhZkmuS3FRd"
      },
      "outputs": [],
      "source": [
        "c_data = \"汉堡 关闭 简体中文 路径 首页 产品 部件 系统 商城 部件 电动推杆 升降立柱 遮阳驱动 伺服电机 控制器 操作器 配件 系统 升降桌系统 可调节床架 升降电视机架 洗澡椅 升降坐便器 升降吊柜 升降梳妆台 台面平移 电动轮椅 商城 业务领域 智慧办公 医疗康护 智能家居 工业自动化 智慧办公 TF组合工位 TT组合工位 TS单人工位 TO单人工位 高级办公桌 主管桌 Odette会议桌 升降白板 升降讲台 工作舱 Zen新中式升降桌 升降茶几 居家升降桌 蜂窝板升降桌 电竞升降桌 儿童学习桌 医疗康护 电动病床 影像设备 检查床/诊疗床 手术床 婴儿培育箱 家用护理床 移位器 电动轮椅 升降坐便器 洗澡椅 沐浴床 眼科检查台 治疗椅 理容椅 牵引床 按摩床 OT训练设备 直立床 康复机器人 智能家居 升降吊柜 升降岛台 升降电视机架 升降衣柜 升降梳妆台 升降梳妆镜 电竞升降桌 Zen 新中式升降桌 儿童学习桌 油烟机 洗碗机 可调节床架 遮阳驱动 工业自动化 光伏应用 光热应用 建筑工程机械 环卫车辆 AGV/物流叉车 石油设备（防爆） 扫地机器人 关于捷昌 捷昌简介 捷昌优势 捷昌文化 捷昌年刊 社会责任 行为守则 可持续发展 检测实力 捷昌简介 捷昌优势 捷昌文化 捷昌年刊 社会责任 行为守则 可持续发展 检测实力 服务 满意度调查 升降系统定制 常见问题 相关下载 满意度调查 升降系统定制 常见问题 相关下载 新闻中心 新闻资讯 视频浏览 新闻资讯 视频浏览 联系我们 全球办事处 投资者关系 加入我们 合作伙伴 全球办事处 投资者关系 加入我们 合作伙伴 简体中文 简体中文 Pусский 日本語 Deutsch Español English हिन्दी 搜索 路径 办公室 高级办公桌 适用于独立办公室的升降系统解决方案。高级的造型和功能定制，满足高端应用场景对升降办公的功能需求和性能需求。精工制造与品质管控 JIECANG拥有数百台高精设备和自动化生产线，既可实现规模化生产，又能满足柔性定制，全方位的产业链充分保证了产品品质的一致性以及交货的及时性。JIECANG设有比常规环境更苛刻的质量实验室，拥有专业质量监控团队和完备的管理体系，所有原材料、半成品、成品都经过严格检测，保障产品品质，产品出厂合格率控制在500ppm以内。经过数万次的负载寿命测试标准，捷昌升降系统使用寿命可达10年以上。全面的升降系统解决方案 JIECANG的升降系统拥有全面且丰富的优势。Anti-collision加载回退功能避免了用户在使用升降桌时存在的安全隐患。在待机时，JIECANG的升降系统可以达到待机功耗＜0.1W，节约能耗。Click快速安装系列、Zoom快速升降系列、Nature蜂窝板系列、Mute静音技术、IOT物联网接口等升降系统解决方案在各方面为消费者提供健康办公产品。20+年线性驱动行业经验电动升降桌广泛应用于写字楼、行政单位、企业、学校、家庭等环境，为长期久坐的人员提供健康的坐姿以及站立办公的产品，缓解身体疲劳，减缓和避免脊椎类职业病。JIECANG作为《电动升降桌》行业标准的起草单位，拥有20+年的线性驱动行业经验，可以为广大客户提供专业的产品以及服务。​ 查看更多 下拉箭头小 收起箭头 起重柱 JS36DR3-3-S 查看更多 手机 JCHT35K23 查看更多 控制箱 JCB35NH2 查看更多 起重柱 JS36DR3-3-S 查看更多 手机 JCHT35K23 查看更多 控制箱 JCB35NH2 查看更多 First-class qualityThis area can be customized to add text, the length of the text is customized, does not affect the operation of the entire site.This area can be customized to add text, the length of the text is customized, does not affect the operation of the entire site. 产品中心 我们为您提供专业的升降系统解决方案及相关部件。 JS36DR3-3-S ·3节 ·矩形管 90*60 mm ·正装L型 JCHT35K23 ·OLED显示屏 ·亚克力板材 ·久坐提醒 JCP35WA-A ·无线充电器 ·隔桌充电 ·最大功率：10W JCB35NH2 ·输出功率：400W ·0.1W待机功率 ·可控制立柱数量: 2 相关视频 探索发现 智慧办公 捷昌携新品亮相广州家博会，助力办公家具驶入智能新蓝海 智慧办公 捷昌驱动亮相广州设计周，加速智慧驱动与家居设计的融合发展 智慧办公 2022 ORGATEC | 办公新视野，捷昌打造“一个可持续的未来” 10月25日-29日，我们与您相约德国科隆国际会展中心6号展厅A-038展位。在今年的ORGATEC上，捷昌重点关注“一个可持续的未来”，并希望通过展会传递环保的设计理念可以为人体工学家具带来更卓越的效果。 智慧办公 捷昌驱动荣获iF设计奖，引领行业创新发展 近日，德国“iF设计奖”公布了2021年度获奖名单。捷昌驱动凭借应用于智能升降桌的创新手控器JCHT35M6斩获“iF产品设计奖”。 智慧办公 电竞产业快速发展，捷昌为客户提供多元化“升降桌解决方案” 在不断地斟酌打磨后，我们推出了INVICTUS电竞升降桌解决方案，并深信它面面俱到的功能与诸多贴心的细节设计能使之成为年轻游戏玩家的最佳“战友”。 智慧办公 CIFF广州今日开幕｜岂止于“快”，1.2D18等你探索更多捷昌创新升降系统 CIFF广州今日开幕｜岂止于“快”，1.2D18等你探索更多捷昌创新升降系统 快速链接 快速导航 首页 部件 系统 业务领域 关于捷昌 服务 新闻资讯 联系我们 部件 快速导航 电动推杆 升降立柱 遮阳驱动 伺服电机 控制器 操作器 配件 400-6666-358 jc35@jiecang.com 留言 2355502916 系统 快速导航 升降桌系统 可调节床架 升降电视机架 洗澡椅 升降坐便器 升降吊柜 升降梳妆台 台面平移 电动轮椅  地址：浙江省新昌县省级高新技术产业园区莱盛路2号  电话：400-6666-358 https://weibo.com/p/1006063675752922/home?from=page_100606&mod=TAB#place 版权所有  2022 浙江捷昌线性驱动科技股份有限公司 站点地图 | 隐私政策 浙ICP备11031253号-8\"\n",
        "p1 = \"This text is from an product website, please extract the description of the product named 高级办公桌:\"\n",
        "p2 = \"This text is from an product website, please extract the description of the product named 高级办公桌, Note that dont summary, extract and combine all relavent information instead:\""
      ]
    },
    {
      "cell_type": "code",
      "execution_count": 7,
      "metadata": {
        "colab": {
          "base_uri": "https://localhost:8080/",
          "height": 289
        },
        "id": "SizcefUl2vvV",
        "outputId": "ba98e8ab-ffc4-4583-a8c1-c9bac9fea7c7"
      },
      "outputs": [
        {
          "name": "stdout",
          "output_type": "stream",
          "text": [
            "This text is from an product website, please extract the description of the product named 高级办公桌:\n",
            "♦♦♦♦♦♦♦♦♦♦♦♦♦♦♦♦\n",
            "CPU times: user 170 ms, sys: 18.1 ms, total: 188 ms\n",
            "Wall time: 9.19 s\n"
          ]
        },
        {
          "data": {
            "text/markdown": [
              "> 高级办公桌是一款专为独立办公室设计的升降系统解决方案。它具有高级的造型和功能定制，能够满足高端应用场景对升降办公的功能需求和性能需求。\n",
              "> \n",
              "> 高级办公桌采用精工制造和品质管控，拥有数百台高精设备和自动化生产线，既可实现规模化生产，又能满足柔性定制。全方位的产业链充分保证了产品品质的一致性以及交货的及时性。\n",
              "> \n",
              "> 高级办公桌的全面的升降系统解决方案，具有Anti-collision加载回退功能，避免了用户在使用升降桌时存在的安全隐患。在待机时，高级办公桌的升降系统可以达到待机功耗＜0.1W，节约能耗。它还拥有Click快速安装系列、Zoom快速升降系列、Nature蜂窝板系列、Mute静音技术、IOT物联网接口等升降系统解决方案，在各方面为消费者提供健康办公产品。\n",
              "> \n",
              "> 高级办公桌采用20+年线性驱动行业经验，电动升降桌广泛应用于写字楼、行政单位、企业、学校、家庭等环境，为长期久坐的人员提供健康的坐姿以及站立办公的产品，缓解身体疲劳，减缓和避免脊椎类职业病。"
            ],
            "text/plain": [
              "<IPython.core.display.Markdown object>"
            ]
          },
          "execution_count": 7,
          "metadata": {},
          "output_type": "execute_result"
        }
      ],
      "source": [
        "%%time\n",
        "p = p1\n",
        "response = model.generate_content( p + c_data)\n",
        "print(p)\n",
        "print(\"♦\"*50)\n",
        "to_markdown(response.text)"
      ]
    },
    {
      "cell_type": "code",
      "execution_count": 8,
      "metadata": {
        "colab": {
          "base_uri": "https://localhost:8080/",
          "height": 516
        },
        "id": "3UVSU7e94sWU",
        "outputId": "72ddf2b6-7297-4fe3-8b7c-7c0f86c7e47c"
      },
      "outputs": [
        {
          "name": "stdout",
          "output_type": "stream",
          "text": [
            "This text is from an product website, please extract the description of the product named 高级办公桌, Note that dont summary, extract and combine all relavent information instead:\n",
            "♦♦♦♦♦♦♦♦♦♦♦♦♦♦♦♦\n",
            "CPU times: user 124 ms, sys: 13.9 ms, total: 138 ms\n",
            "Wall time: 7.86 s\n"
          ]
        },
        {
          "data": {
            "text/markdown": [
              "> 高端办公桌：\n",
              "> \n",
              "> 1. 适用于独立办公室的升降系统解决方案。\n",
              "> 2. 可满足高端场景对升降办公的功能与性能需求。\n",
              "> 3. 拥有高级的造型和功能定制。\n",
              "> \n",
              "> 产品优势：\n",
              "> \n",
              "> 1. 精工制造与品质管控：\n",
              ">     - 拥有数百台高精设备和自动化生产线，保证产品品质的一致性和交货及时性。\n",
              ">     - 设有比常规环境更苛刻的质量实验室，拥有专业质量监控团队和完备的管理体系。\n",
              ">     - 所有原材料、半成品、成品都经过严格检测，保障产品品质，产品出厂合格率控制在500ppm以内。\n",
              ">     - 升降系统使用寿命可达10年以上。\n",
              "> \n",
              "> 2. 全面的升降系统解决方案：\n",
              ">     - 拥有全面且丰富的优势。\n",
              ">     - Anti-collision加载回退功能避免了用户在使用升降桌时存在的安全隐患。\n",
              ">     - 待机时，待机功耗＜0.1W，节约能耗。\n",
              ">     - Click快速安装系列、Zoom快速升降系列、Nature蜂窝板系列、Mute静音技术、IOT物联网接口等升降系统解决方案在各方面为消费者提供健康办公产品。\n",
              "> \n",
              "> 3. 多年的行业经验：\n",
              ">     - 作为《电动升降桌》行业标准的起草单位，拥有20+年的线性驱动行业经验。\n",
              ">     - 可为广大客户提供专业的产品以及服务。"
            ],
            "text/plain": [
              "<IPython.core.display.Markdown object>"
            ]
          },
          "execution_count": 8,
          "metadata": {},
          "output_type": "execute_result"
        }
      ],
      "source": [
        "%%time\n",
        "p = p2\n",
        "response = model.generate_content( p + c_data)\n",
        "print(p)\n",
        "print(\"♦\"*50)\n",
        "to_markdown(response.text)"
      ]
    },
    {
      "cell_type": "code",
      "execution_count": 9,
      "metadata": {
        "colab": {
          "base_uri": "https://localhost:8080/",
          "height": 302
        },
        "id": "5vsUeSgg6FW2",
        "outputId": "a6b56125-5393-491e-a4f6-e96dba43d360"
      },
      "outputs": [
        {
          "name": "stdout",
          "output_type": "stream",
          "text": [
            "This text is from an product website, please extract the description of the product named 高级办公桌, Note that dont summary, extract and combine all relavent information instead:\n",
            "♦♦♦♦♦♦♦♦♦♦♦♦♦♦♦♦\n",
            "CPU times: user 120 ms, sys: 10.6 ms, total: 130 ms\n",
            "Wall time: 8.9 s\n"
          ]
        },
        {
          "data": {
            "text/markdown": [
              "> 高级办公桌：\n",
              "> 1. 适用于独立办公室的升降系统解决方案。\n",
              "> 2. 高级的造型和功能定制，满足高端应用场景对升降办公的功能需求和性能需求。\n",
              "> 3. 采用优质材料和精工制造工艺，保证产品品质的一致性和交货的及时性。\n",
              "> 4. 拥有比常规环境更苛刻的质量实验室，所有原材料、半成品、成品都经过严格检测，保障产品品质，产品出厂合格率控制在500ppm以内。\n",
              "> 5. 经过数万次的负载寿命测试标准，捷昌升降系统使用寿命可达10年以上。\n",
              "> 6. 拥有全面且丰富的优势，如Anti-collision加载回退功能，待机功耗＜0.1W，Click快速安装系列、Zoom快速升降系列、Nature蜂窝板系列、Mute静音技术、IOT物联网接口等升降系统解决方案。\n",
              "> 7. 20+年线性驱动行业经验，为广大客户提供专业的产品以及服务。\n",
              "> 8. 可选配件包括起重柱、手机、控制箱等。"
            ],
            "text/plain": [
              "<IPython.core.display.Markdown object>"
            ]
          },
          "execution_count": 9,
          "metadata": {},
          "output_type": "execute_result"
        }
      ],
      "source": [
        "%%time\n",
        "p = p2\n",
        "response = model.generate_content( p + c_data)\n",
        "print(p)\n",
        "print(\"♦\"*50)\n",
        "to_markdown(response.text)"
      ]
    },
    {
      "cell_type": "markdown",
      "metadata": {
        "id": "pJcRknjK8Jl9"
      },
      "source": [
        "## GPT"
      ]
    },
    {
      "cell_type": "code",
      "execution_count": 16,
      "metadata": {
        "colab": {
          "base_uri": "https://localhost:8080/",
          "height": 532
        },
        "id": "NEedVDED8LWN",
        "outputId": "6abfb14f-f9b5-4177-cf45-6adb9dc7ede8"
      },
      "outputs": [
        {
          "ename": "ImportError",
          "evalue": "ignored",
          "output_type": "error",
          "traceback": [
            "\u001b[0;31m---------------------------------------------------------------------------\u001b[0m",
            "\u001b[0;31mImportError\u001b[0m                               Traceback (most recent call last)",
            "\u001b[0;32m<ipython-input-16-d83dec6a1b7d>\u001b[0m in \u001b[0;36m<cell line: 2>\u001b[0;34m()\u001b[0m\n\u001b[1;32m      1\u001b[0m \u001b[0;32mimport\u001b[0m \u001b[0mos\u001b[0m\u001b[0;34m\u001b[0m\u001b[0;34m\u001b[0m\u001b[0m\n\u001b[0;32m----> 2\u001b[0;31m \u001b[0;32mfrom\u001b[0m \u001b[0mopenai\u001b[0m \u001b[0;32mimport\u001b[0m \u001b[0mOpenAI\u001b[0m\u001b[0;34m\u001b[0m\u001b[0;34m\u001b[0m\u001b[0m\n\u001b[0m\u001b[1;32m      3\u001b[0m \u001b[0;34m\u001b[0m\u001b[0m\n\u001b[1;32m      4\u001b[0m client = OpenAI(\n\u001b[1;32m      5\u001b[0m     \u001b[0;31m# This is the default and can be omitted\u001b[0m\u001b[0;34m\u001b[0m\u001b[0;34m\u001b[0m\u001b[0m\n",
            "\u001b[0;32m/usr/local/lib/python3.10/dist-packages/openai/__init__.py\u001b[0m in \u001b[0;36m<module>\u001b[0;34m\u001b[0m\n\u001b[1;32m      6\u001b[0m \u001b[0;32mfrom\u001b[0m \u001b[0mtyping_extensions\u001b[0m \u001b[0;32mimport\u001b[0m \u001b[0moverride\u001b[0m\u001b[0;34m\u001b[0m\u001b[0;34m\u001b[0m\u001b[0m\n\u001b[1;32m      7\u001b[0m \u001b[0;34m\u001b[0m\u001b[0m\n\u001b[0;32m----> 8\u001b[0;31m \u001b[0;32mfrom\u001b[0m \u001b[0;34m.\u001b[0m \u001b[0;32mimport\u001b[0m \u001b[0mtypes\u001b[0m\u001b[0;34m\u001b[0m\u001b[0;34m\u001b[0m\u001b[0m\n\u001b[0m\u001b[1;32m      9\u001b[0m \u001b[0;32mfrom\u001b[0m \u001b[0;34m.\u001b[0m\u001b[0m_types\u001b[0m \u001b[0;32mimport\u001b[0m \u001b[0mNoneType\u001b[0m\u001b[0;34m,\u001b[0m \u001b[0mTransport\u001b[0m\u001b[0;34m,\u001b[0m \u001b[0mProxiesTypes\u001b[0m\u001b[0;34m\u001b[0m\u001b[0;34m\u001b[0m\u001b[0m\n\u001b[1;32m     10\u001b[0m \u001b[0;32mfrom\u001b[0m \u001b[0;34m.\u001b[0m\u001b[0m_utils\u001b[0m \u001b[0;32mimport\u001b[0m \u001b[0mfile_from_path\u001b[0m\u001b[0;34m\u001b[0m\u001b[0;34m\u001b[0m\u001b[0m\n",
            "\u001b[0;32m/usr/local/lib/python3.10/dist-packages/openai/types/__init__.py\u001b[0m in \u001b[0;36m<module>\u001b[0;34m\u001b[0m\n\u001b[1;32m      3\u001b[0m \u001b[0;32mfrom\u001b[0m \u001b[0m__future__\u001b[0m \u001b[0;32mimport\u001b[0m \u001b[0mannotations\u001b[0m\u001b[0;34m\u001b[0m\u001b[0;34m\u001b[0m\u001b[0m\n\u001b[1;32m      4\u001b[0m \u001b[0;34m\u001b[0m\u001b[0m\n\u001b[0;32m----> 5\u001b[0;31m \u001b[0;32mfrom\u001b[0m \u001b[0;34m.\u001b[0m\u001b[0medit\u001b[0m \u001b[0;32mimport\u001b[0m \u001b[0mEdit\u001b[0m \u001b[0;32mas\u001b[0m \u001b[0mEdit\u001b[0m\u001b[0;34m\u001b[0m\u001b[0;34m\u001b[0m\u001b[0m\n\u001b[0m\u001b[1;32m      6\u001b[0m \u001b[0;32mfrom\u001b[0m \u001b[0;34m.\u001b[0m\u001b[0mimage\u001b[0m \u001b[0;32mimport\u001b[0m \u001b[0mImage\u001b[0m \u001b[0;32mas\u001b[0m \u001b[0mImage\u001b[0m\u001b[0;34m\u001b[0m\u001b[0;34m\u001b[0m\u001b[0m\n\u001b[1;32m      7\u001b[0m \u001b[0;32mfrom\u001b[0m \u001b[0;34m.\u001b[0m\u001b[0mmodel\u001b[0m \u001b[0;32mimport\u001b[0m \u001b[0mModel\u001b[0m \u001b[0;32mas\u001b[0m \u001b[0mModel\u001b[0m\u001b[0;34m\u001b[0m\u001b[0;34m\u001b[0m\u001b[0m\n",
            "\u001b[0;32m/usr/local/lib/python3.10/dist-packages/openai/types/edit.py\u001b[0m in \u001b[0;36m<module>\u001b[0;34m\u001b[0m\n\u001b[1;32m      4\u001b[0m \u001b[0;32mfrom\u001b[0m \u001b[0mtyping_extensions\u001b[0m \u001b[0;32mimport\u001b[0m \u001b[0mLiteral\u001b[0m\u001b[0;34m\u001b[0m\u001b[0;34m\u001b[0m\u001b[0m\n\u001b[1;32m      5\u001b[0m \u001b[0;34m\u001b[0m\u001b[0m\n\u001b[0;32m----> 6\u001b[0;31m \u001b[0;32mfrom\u001b[0m \u001b[0;34m.\u001b[0m\u001b[0;34m.\u001b[0m\u001b[0m_models\u001b[0m \u001b[0;32mimport\u001b[0m \u001b[0mBaseModel\u001b[0m\u001b[0;34m\u001b[0m\u001b[0;34m\u001b[0m\u001b[0m\n\u001b[0m\u001b[1;32m      7\u001b[0m \u001b[0;32mfrom\u001b[0m \u001b[0;34m.\u001b[0m\u001b[0mcompletion_usage\u001b[0m \u001b[0;32mimport\u001b[0m \u001b[0mCompletionUsage\u001b[0m\u001b[0;34m\u001b[0m\u001b[0;34m\u001b[0m\u001b[0m\n\u001b[1;32m      8\u001b[0m \u001b[0;34m\u001b[0m\u001b[0m\n",
            "\u001b[0;32m/usr/local/lib/python3.10/dist-packages/openai/_models.py\u001b[0m in \u001b[0;36m<module>\u001b[0;34m\u001b[0m\n\u001b[1;32m     31\u001b[0m     \u001b[0mHttpxRequestFiles\u001b[0m\u001b[0;34m,\u001b[0m\u001b[0;34m\u001b[0m\u001b[0;34m\u001b[0m\u001b[0m\n\u001b[1;32m     32\u001b[0m )\n\u001b[0;32m---> 33\u001b[0;31m from ._utils import (\n\u001b[0m\u001b[1;32m     34\u001b[0m     \u001b[0mis_list\u001b[0m\u001b[0;34m,\u001b[0m\u001b[0;34m\u001b[0m\u001b[0;34m\u001b[0m\u001b[0m\n\u001b[1;32m     35\u001b[0m     \u001b[0mis_given\u001b[0m\u001b[0;34m,\u001b[0m\u001b[0;34m\u001b[0m\u001b[0;34m\u001b[0m\u001b[0m\n",
            "\u001b[0;32m/usr/local/lib/python3.10/dist-packages/openai/_utils/__init__.py\u001b[0m in \u001b[0;36m<module>\u001b[0;34m\u001b[0m\n\u001b[1;32m     34\u001b[0m \u001b[0;32mfrom\u001b[0m \u001b[0;34m.\u001b[0m\u001b[0m_typing\u001b[0m \u001b[0;32mimport\u001b[0m \u001b[0mstrip_annotated_type\u001b[0m \u001b[0;32mas\u001b[0m \u001b[0mstrip_annotated_type\u001b[0m\u001b[0;34m\u001b[0m\u001b[0;34m\u001b[0m\u001b[0m\n\u001b[1;32m     35\u001b[0m \u001b[0;32mfrom\u001b[0m \u001b[0;34m.\u001b[0m\u001b[0m_typing\u001b[0m \u001b[0;32mimport\u001b[0m \u001b[0mextract_type_var_from_base\u001b[0m \u001b[0;32mas\u001b[0m \u001b[0mextract_type_var_from_base\u001b[0m\u001b[0;34m\u001b[0m\u001b[0;34m\u001b[0m\u001b[0m\n\u001b[0;32m---> 36\u001b[0;31m \u001b[0;32mfrom\u001b[0m \u001b[0;34m.\u001b[0m\u001b[0m_streams\u001b[0m \u001b[0;32mimport\u001b[0m \u001b[0mconsume_sync_iterator\u001b[0m \u001b[0;32mas\u001b[0m \u001b[0mconsume_sync_iterator\u001b[0m\u001b[0;34m\u001b[0m\u001b[0;34m\u001b[0m\u001b[0m\n\u001b[0m\u001b[1;32m     37\u001b[0m \u001b[0;32mfrom\u001b[0m \u001b[0;34m.\u001b[0m\u001b[0m_streams\u001b[0m \u001b[0;32mimport\u001b[0m \u001b[0mconsume_async_iterator\u001b[0m \u001b[0;32mas\u001b[0m \u001b[0mconsume_async_iterator\u001b[0m\u001b[0;34m\u001b[0m\u001b[0;34m\u001b[0m\u001b[0m\n\u001b[1;32m     38\u001b[0m \u001b[0;32mfrom\u001b[0m \u001b[0;34m.\u001b[0m\u001b[0m_transform\u001b[0m \u001b[0;32mimport\u001b[0m \u001b[0mPropertyInfo\u001b[0m \u001b[0;32mas\u001b[0m \u001b[0mPropertyInfo\u001b[0m\u001b[0;34m\u001b[0m\u001b[0;34m\u001b[0m\u001b[0m\n",
            "\u001b[0;32m/usr/local/lib/python3.10/dist-packages/openai/_utils/_streams.py\u001b[0m in \u001b[0;36m<module>\u001b[0;34m\u001b[0m\n\u001b[1;32m      1\u001b[0m \u001b[0;32mfrom\u001b[0m \u001b[0mtyping\u001b[0m \u001b[0;32mimport\u001b[0m \u001b[0mAny\u001b[0m\u001b[0;34m\u001b[0m\u001b[0;34m\u001b[0m\u001b[0m\n\u001b[0;32m----> 2\u001b[0;31m \u001b[0;32mfrom\u001b[0m \u001b[0mtyping_extensions\u001b[0m \u001b[0;32mimport\u001b[0m \u001b[0mIterator\u001b[0m\u001b[0;34m,\u001b[0m \u001b[0mAsyncIterator\u001b[0m\u001b[0;34m\u001b[0m\u001b[0;34m\u001b[0m\u001b[0m\n\u001b[0m\u001b[1;32m      3\u001b[0m \u001b[0;34m\u001b[0m\u001b[0m\n\u001b[1;32m      4\u001b[0m \u001b[0;34m\u001b[0m\u001b[0m\n\u001b[1;32m      5\u001b[0m \u001b[0;32mdef\u001b[0m \u001b[0mconsume_sync_iterator\u001b[0m\u001b[0;34m(\u001b[0m\u001b[0miterator\u001b[0m\u001b[0;34m:\u001b[0m \u001b[0mIterator\u001b[0m\u001b[0;34m[\u001b[0m\u001b[0mAny\u001b[0m\u001b[0;34m]\u001b[0m\u001b[0;34m)\u001b[0m \u001b[0;34m->\u001b[0m \u001b[0;32mNone\u001b[0m\u001b[0;34m:\u001b[0m\u001b[0;34m\u001b[0m\u001b[0;34m\u001b[0m\u001b[0m\n",
            "\u001b[0;31mImportError\u001b[0m: cannot import name 'Iterator' from 'typing_extensions' (/usr/local/lib/python3.10/dist-packages/typing_extensions.py)",
            "",
            "\u001b[0;31m---------------------------------------------------------------------------\u001b[0;32m\nNOTE: If your import is failing due to a missing package, you can\nmanually install dependencies using either !pip or !apt.\n\nTo view examples of installing some common dependencies, click the\n\"Open Examples\" button below.\n\u001b[0;31m---------------------------------------------------------------------------\u001b[0m\n"
          ]
        }
      ],
      "source": [
        "import os\n",
        "from openai import OpenAI\n",
        "\n",
        "client = OpenAI(\n",
        "    # This is the default and can be omitted\n",
        "    # api_key=os.environ.get(\"OPENAI_API_KEY\"),\n",
        "    api_key = userdata.get(\"OPENAI_API_KEY\")\n",
        ")\n",
        "\n",
        "content = p1 + c_data\n",
        "\n",
        "chat_completion = client.chat.completions.create(\n",
        "    messages=[\n",
        "        {\n",
        "            \"role\": \"user\",\n",
        "            \"content\": content,\n",
        "        }\n",
        "    ],\n",
        "    model=\"gpt-3.5-turbo\",\n",
        ")"
      ]
    }
  ],
  "metadata": {
    "colab": {
      "provenance": [],
      "toc_visible": true
    },
    "kernelspec": {
      "display_name": "lm",
      "language": "python",
      "name": "lm"
    }
  },
  "nbformat": 4,
  "nbformat_minor": 0
}
